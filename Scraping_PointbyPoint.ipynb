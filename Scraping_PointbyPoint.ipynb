{
 "cells": [
  {
   "cell_type": "code",
   "execution_count": 221,
   "metadata": {
    "collapsed": false
   },
   "outputs": [],
   "source": [
    "from pyquery import PyQuery as pq\n",
    "from selenium import webdriver\n",
    "import pandas as pd\n",
    "import numpy as np\n",
    "\n"
   ]
  },
  {
   "cell_type": "code",
   "execution_count": 250,
   "metadata": {
    "collapsed": false
   },
   "outputs": [],
   "source": [
    "def ServeHoldPull(url,n):\n",
    "    serve_held_1 = 0\n",
    "    serve_broken_1 = 0\n",
    "    serve_held_2 = 0\n",
    "    serve_broken_2 = 0\n",
    "    for i in range(n):\n",
    "        d = 0\n",
    "        d1 = 0\n",
    "        df = 0\n",
    "        df1 = 0\n",
    "        browser = webdriver.PhantomJS()\n",
    "        k = i+1\n",
    "        urltemp = url + str(k)\n",
    "        id1 = 'tab-mhistory-' + str(k) + '-history'\n",
    "        id2 = 0\n",
    "        browser.get(urltemp)\n",
    "        html = browser.find_element_by_id(id1).get_attribute('innerHTML')\n",
    "        browser.quit()\n",
    "        table = pq(html)\n",
    "        d1 = [ \n",
    "        [td.text() for td in tr('td').items()]\n",
    "        for tr in table('tbody tr').items()]\n",
    "        df1 = pd.DataFrame(d1)\n",
    "        if((df1[2][1] == '1 - 0') & (df1[4][1] == '')):\n",
    "            id2 = '.odd .tennis-serve'\n",
    "        if((df1[2][1] == '1 - 0') & (df1[4][1] == 'LOST SERVE')):\n",
    "            id2 = '.even .tennis-serve'\n",
    "        if((df1[2][1] == '0 - 1') & (df1[0][1] == '')):\n",
    "            id2 = '.even .tennis-serve'\n",
    "        if((df1[2][1] == '0 - 1') & (df1[0][1] == 'LOST SERVE')):\n",
    "            id2 = '.odd .tennis-serve'\n",
    "        d = [ \n",
    "        [td.text() for td in tr(id2).items()]\n",
    "        for tr in table('tbody tr').items()]\n",
    "        df = pd.DataFrame(d)\n",
    "        df1[5] = df[0]\n",
    "        if(len(df1[0]) > 24):\n",
    "            df1 = df1[0:24]\n",
    "        serve_held_1 = serve_held_1 + len(df1[(df1[0] == '') & (df1[5]=='')])\n",
    "        serve_broken_1 = serve_broken_1 + len(df1[(df1[0] == 'LOST SERVE') & (df1[5]=='')])\n",
    "        serve_held_2 = serve_held_2 + len(df1[(df1[4] == '') & (df1[5] != '')])\n",
    "        serve_broken_2 = serve_broken_2 + len(df1[(df1[4] == 'LOST SERVE') & (df1[5] != '')])\n",
    "    return pd.Series([serve_held_1,serve_broken_1,serve_held_2,serve_broken_2])"
   ]
  },
  {
   "cell_type": "code",
   "execution_count": 256,
   "metadata": {
    "collapsed": true
   },
   "outputs": [],
   "source": [
    "scrape_frame = pd.read_excel('Djokovic_Cleaned_Fixed.xlsx')\n",
    "scrape_frame['SHP 1'] = np.nan\n",
    "scrape_frame['SHP 2'] = np.nan\n",
    "scrape_frame['SHP 3'] = np.nan\n",
    "scrape_frame['SHP 4'] = np.nan"
   ]
  },
  {
   "cell_type": "code",
   "execution_count": null,
   "metadata": {
    "collapsed": false
   },
   "outputs": [
    {
     "name": "stderr",
     "output_type": "stream",
     "text": [
      "/Users/benedictbrady/anaconda/lib/python2.7/site-packages/ipykernel/__main__.py:4: SettingWithCopyWarning: \n",
      "A value is trying to be set on a copy of a slice from a DataFrame\n",
      "\n",
      "See the caveats in the documentation: http://pandas.pydata.org/pandas-docs/stable/indexing.html#indexing-view-versus-copy\n",
      "/Users/benedictbrady/anaconda/lib/python2.7/site-packages/ipykernel/__main__.py:5: SettingWithCopyWarning: \n",
      "A value is trying to be set on a copy of a slice from a DataFrame\n",
      "\n",
      "See the caveats in the documentation: http://pandas.pydata.org/pandas-docs/stable/indexing.html#indexing-view-versus-copy\n",
      "/Users/benedictbrady/anaconda/lib/python2.7/site-packages/ipykernel/__main__.py:6: SettingWithCopyWarning: \n",
      "A value is trying to be set on a copy of a slice from a DataFrame\n",
      "\n",
      "See the caveats in the documentation: http://pandas.pydata.org/pandas-docs/stable/indexing.html#indexing-view-versus-copy\n",
      "/Users/benedictbrady/anaconda/lib/python2.7/site-packages/ipykernel/__main__.py:7: SettingWithCopyWarning: \n",
      "A value is trying to be set on a copy of a slice from a DataFrame\n",
      "\n",
      "See the caveats in the documentation: http://pandas.pydata.org/pandas-docs/stable/indexing.html#indexing-view-versus-copy\n"
     ]
    },
    {
     "name": "stdout",
     "output_type": "stream",
     "text": [
      "105\n",
      "106\n",
      "107\n",
      "108\n",
      "109\n",
      "110\n",
      "111\n",
      "112\n",
      "113\n",
      "114\n",
      "115\n",
      "116\n",
      "117\n",
      "118\n",
      "119\n",
      "120\n",
      "121\n",
      "122\n",
      "123\n",
      "124\n",
      "125\n",
      "126\n",
      "127\n",
      "128\n",
      "129\n",
      "130\n",
      "131\n",
      "132\n",
      "133\n",
      "134\n",
      "135\n",
      "136\n",
      "137\n",
      "138\n",
      "139\n",
      "140\n",
      "141\n",
      "142\n",
      "143\n",
      "144\n",
      "145\n",
      "146\n",
      "147\n",
      "148\n",
      "149\n",
      "150\n",
      "151\n",
      "152\n",
      "153\n",
      "154\n",
      "155\n",
      "156\n",
      "157\n",
      "158\n",
      "159\n",
      "160\n",
      "161\n",
      "162\n",
      "163\n",
      "164\n",
      "165\n",
      "166\n",
      "167\n",
      "168\n",
      "169\n",
      "170\n",
      "171\n",
      "172\n",
      "173\n",
      "174\n",
      "175\n",
      "176\n",
      "177\n",
      "179\n",
      "180\n",
      "181\n",
      "182\n",
      "184\n",
      "185\n",
      "186\n",
      "187\n",
      "188\n",
      "189\n",
      "190\n",
      "191\n",
      "192\n",
      "193\n",
      "194\n",
      "195\n",
      "197\n",
      "199\n"
     ]
    }
   ],
   "source": [
    "for i in range(105,1058):\n",
    "    try:\n",
    "        list_ = ServeHoldPull(scrape_frame['URL'][i],scrape_frame['Amount of Sets'][i])\n",
    "        scrape_frame['SHP 1'][i] = list_[0]\n",
    "        scrape_frame['SHP 2'][i] = list_[1]\n",
    "        scrape_frame['SHP 3'][i] = list_[2]\n",
    "        scrape_frame['SHP 4'][i] = list_[3]\n",
    "        print(i)\n",
    "    except:\n",
    "        pass"
   ]
  },
  {
   "cell_type": "code",
   "execution_count": null,
   "metadata": {
    "collapsed": true
   },
   "outputs": [],
   "source": []
  },
  {
   "cell_type": "code",
   "execution_count": null,
   "metadata": {
    "collapsed": true
   },
   "outputs": [],
   "source": []
  }
 ],
 "metadata": {
  "kernelspec": {
   "display_name": "Python 2",
   "language": "python",
   "name": "python2"
  },
  "language_info": {
   "codemirror_mode": {
    "name": "ipython",
    "version": 2
   },
   "file_extension": ".py",
   "mimetype": "text/x-python",
   "name": "python",
   "nbconvert_exporter": "python",
   "pygments_lexer": "ipython2",
   "version": "2.7.11"
  }
 },
 "nbformat": 4,
 "nbformat_minor": 0
}
