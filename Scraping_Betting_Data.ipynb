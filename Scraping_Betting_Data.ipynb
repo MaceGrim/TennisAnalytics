{
 "cells": [
  {
   "cell_type": "code",
   "execution_count": 12,
   "metadata": {
    "collapsed": false
   },
   "outputs": [],
   "source": [
    "import pandas as pd\n",
    "import numpy as np\n",
    "import csv\n",
    "import requests\n",
    "from bs4 import BeautifulSoup\n"
   ]
  },
  {
   "cell_type": "code",
   "execution_count": 7,
   "metadata": {
    "collapsed": false
   },
   "outputs": [
    {
     "name": "stdout",
     "output_type": "stream",
     "text": [
      "Requirement already up-to-date: pyquery in /Users/benedictbrady/anaconda/lib/python2.7/site-packages\n",
      "Requirement already up-to-date: cssselect>0.7.9 in /Users/benedictbrady/anaconda/lib/python2.7/site-packages (from pyquery)\n",
      "Collecting lxml>=2.1 (from pyquery)\n",
      "  Downloading lxml-3.6.0.tar.gz (3.7MB)\n",
      "\u001b[K    100% |████████████████████████████████| 3.7MB 185kB/s \n",
      "\u001b[?25hBuilding wheels for collected packages: lxml\n",
      "  Running setup.py bdist_wheel for lxml ... \u001b[?25l-\b \b\\\b \b|\b \b/\b \b-\b \bdone\n",
      "\u001b[?25h  Stored in directory: /Users/benedictbrady/Library/Caches/pip/wheels/6c/eb/a1/e4ff54c99630e3cc6ec659287c4fd88345cd78199923544412\n",
      "Successfully built lxml\n",
      "Installing collected packages: lxml\n",
      "  Found existing installation: lxml 3.5.0\n",
      "\u001b[33m    DEPRECATION: Uninstalling a distutils installed project (lxml) has been deprecated and will be removed in a future version. This is due to the fact that uninstalling a distutils project will only partially uninstall the project.\u001b[0m\n",
      "    Uninstalling lxml-3.5.0:\n",
      "      Successfully uninstalled lxml-3.5.0\n",
      "Successfully installed lxml-3.6.0\n"
     ]
    }
   ],
   "source": [
    "!pip install pyquery --upgrade"
   ]
  },
  {
   "cell_type": "code",
   "execution_count": 13,
   "metadata": {
    "collapsed": true
   },
   "outputs": [],
   "source": [
    "url = 'http://www.oddsportal.com/search/results/:AZg49Et9/page/1/'\n",
    "req = requests.get(url)\n",
    "soup = BeautifulSoup(req.text,\"html.parser\")"
   ]
  },
  {
   "cell_type": "code",
   "execution_count": 46,
   "metadata": {
    "collapsed": false,
    "scrolled": false
   },
   "outputs": [
    {
     "data": {
      "text/plain": [
       "'<div id=\"col-content\">\\n <h1>\\n  Archive Odds Search: Djokovic Novak\\n </h1>\\n <!-- PAGE BODY -->\\n <form action=\"/search/\" method=\"post\">\\n  <div class=\"box\">\\n   <div class=\"corner-form-box\">\\n    <div class=\"spc filterOpts\">\\n     <h2>\\n      Match Search\\n     </h2>\\n     <input class=\"int-text\" id=\"search-match\" name=\"search-event\" type=\"text\" value=\"Djokovic Novak\"/>\\n     <input name=\"archive\" type=\"hidden\" value=\"1\"/>\\n     <select class=\"int-select\" id=\"search-sport\" name=\"search-sport\">\\n      <option selected=\"\" value=\"\">\\n       All sports\\n      </option>\\n      <option value=\"soccer\">\\n       Soccer\\n      </option>\\n      <option value=\"tennis\">\\n       Tennis\\n      </option>\\n      <option value=\"basketball\">\\n       Basketball\\n      </option>\\n      <option value=\"hockey\">\\n       Hockey\\n      </option>\\n      <option value=\"american-football\">\\n       American Football\\n      </option>\\n      <option value=\"baseball\">\\n       Baseball\\n      </option>\\n      <option value=\"handball\">\\n       Handball\\n      </option>\\n      <option value=\"rugby-union\">\\n       Rugby Union\\n      </option>\\n      <option value=\"floorball\">\\n       Floorball\\n      </option>\\n      <option value=\"bandy\">\\n       Bandy\\n      </option>\\n      <option value=\"futsal\">\\n       Futsal\\n      </option>\\n      <option value=\"volleyball\">\\n       Volleyball\\n      </option>\\n      <option value=\"cricket\">\\n       Cricket\\n      </option>\\n      <option value=\"darts\">\\n       Darts\\n      </option>\\n      <option value=\"snooker\">\\n       Snooker\\n      </option>\\n      <option value=\"boxing\">\\n       Boxing\\n      </option>\\n      <option value=\"beach-volleyball\">\\n       Beach Volleyball\\n      </option>\\n      <option value=\"aussie-rules\">\\n       Aussie Rules\\n      </option>\\n      <option value=\"rugby-league\">\\n       Rugby League\\n      </option>\\n      <option value=\"badminton\">\\n       Badminton\\n      </option>\\n      <option value=\"water-polo\">\\n       Water polo\\n      </option>\\n      <option value=\"beach-soccer\">\\n       Beach Soccer\\n      </option>\\n      <option value=\"mma\">\\n       MMA\\n      </option>\\n      <option value=\"pesapallo\">\\n       PesÃ¤pallo\\n      </option>\\n      <option value=\"esports\">\\n       eSports\\n      </option>\\n     </select>\\n     <button class=\"inline-btn-2 l\" id=\"blocked_submit\" name=\"\" type=\"submit\" value=\"Show\">\\n      <span>\\n       <span>\\n        Show\\n       </span>\\n      </span>\\n     </button>\\n    </div>\\n   </div>\\n  </div>\\n </form>\\n <div class=\"box\">\\n  <div class=\"tab-nav\">\\n   <ul>\\n    <li id=\"menu-next-matches\">\\n     <a href=\"/search/:AZg49Et9/\">\\n      <span>\\n       Next Matches\\n      </span>\\n     </a>\\n    </li>\\n    <li class=\"last\" id=\"menu-archive-matches\">\\n     <strong>\\n      <span>\\n       Results (736)\\n      </span>\\n     </strong>\\n    </li>\\n   </ul>\\n   <div class=\"break\">\\n   </div>\\n  </div>\\n  <table class=\" table-main\">\\n   <colgroup>\\n    <col width=\"50\">\\n    </col>\\n    <col width=\"*\">\\n    </col>\\n    <col width=\"50\">\\n    </col>\\n    <col width=\"50\">\\n    </col>\\n    <col width=\"50\">\\n    </col>\\n    <col width=\"50\">\\n    </col>\\n   </colgroup>\\n   <tbody>\\n    <tr class=\"dark center\" xtid=\"27768\">\\n     <th class=\"first2 tl\" colspan=\"4\">\\n      <a class=\"bfl sicona s2\" href=\"/tennis/\">\\n       Tennis\\n      </a>\\n      <span class=\"bflp\">\\n       Â»\\n      </span>\\n      <a class=\"bfl\" href=\"/tennis/france/\">\\n       <span class=\"ficon f-77\">\\n       </span>\\n       France\\n      </a>\\n      <span class=\"bflp\">\\n       Â»\\n      </span>\\n      <a href=\"/tennis/france/atp-french-open/\">\\n       ATP French Open (clay)\\n      </a>\\n     </th>\\n     <th>\\n      1\\n     </th>\\n     <th>\\n      2\\n     </th>\\n     <th xparam=\"Number of available bookmakers odds~2\">\\n      B\\'s\\n     </th>\\n    </tr>\\n    <tr class=\"odd deactivate\" xeid=\"jcovr4sM\">\\n     <td class=\"table-time datet t1464094500-8-1-0-0 \">\\n     </td>\\n     <td class=\"name table-participant\" colspan=\"2\">\\n      <a href=\"/tennis/france/atp-french-open/djokovic-novak-lu-yen-hsun-jcovr4sM/\">\\n       <span class=\"bold\">\\n        Djokovic N.\\n       </span>\\n       - Lu Y.H.\\n      </a>\\n     </td>\\n     <td class=\"center bold table-odds table-score\">\\n      3:0\\n     </td>\\n     <td class=\"result-ok odds-nowrp\" xodd=\"az0afaz0a\" xoid=\"E-2d81ex2s5a4x0x52n3j\">\\n      -\\n     </td>\\n     <td class=\"odds-nowrp\" xodd=\"pafcezt8\" xoid=\"E-2d81ex2s5a4x0x52n3k\">\\n      -\\n     </td>\\n     <td class=\"center info-value\">\\n      16\\n     </td>\\n    </tr>\\n    <tr class=\"dark center\" xtid=\"27675\">\\n     <th class=\"first2 tl\" colspan=\"4\">\\n      <a class=\"bfl sicona s2\" href=\"/tennis/\">\\n       Tennis\\n      </a>\\n      <span class=\"bflp\">\\n       Â»\\n      </span>\\n      <a class=\"bfl\" href=\"/tennis/italy/\">\\n       <span class=\"ficon f-98\">\\n       </span>\\n       Italy\\n      </a>\\n      <span class=\"bflp\">\\n       Â»\\n      </span>\\n      <a href=\"/tennis/italy/atp-rome/\">\\n       ATP Rome (clay)\\n      </a>\\n     </th>\\n     <th>\\n      1\\n     </th>\\n     <th>\\n      2\\n     </th>\\n     <th xparam=\"Number of available bookmakers odds~2\">\\n      B\\'s\\n     </th>\\n    </tr>\\n    <tr class=\"odd deactivate\" xeid=\"SYEXgveB\">\\n     <td class=\"table-time datet t1463325300-8-1-0-0 \">\\n     </td>\\n     <td class=\"name table-participant\" colspan=\"2\">\\n      <a href=\"/tennis/italy/atp-rome/djokovic-novak-murray-andy-SYEXgveB/\">\\n       Djokovic N. -\\n       <span class=\"bold\">\\n        Murray A.\\n       </span>\\n      </a>\\n     </td>\\n     <td class=\"center bold table-odds table-score\">\\n      0:2\\n     </td>\\n     <td class=\"odds-nowrp\" xodd=\"azt9fazto\" xoid=\"E-2d56rx2s5a4x0x52gq4\">\\n      -\\n     </td>\\n     <td class=\"result-ok odds-nowrp\" xodd=\"cfxz8x\" xoid=\"E-2d56rx2s5a4x0x52gq5\">\\n      -\\n     </td>\\n     <td class=\"center info-value\">\\n      15\\n     </td>\\n    </tr>\\n    <tr class=\" deactivate\" xeid=\"KjI632zU\">\\n     <td class=\"table-time datet t1463249400-8-1-0-0 \">\\n     </td>\\n     <td class=\"name table-participant\" colspan=\"2\">\\n      <a href=\"/tennis/italy/atp-rome/djokovic-novak-nishikori-kei-KjI632zU/\">\\n       <span class=\"bold\">\\n        Djokovic N.\\n       </span>\\n       - Nishikori K.\\n      </a>\\n     </td>\\n     <td class=\"center bold table-odds table-score\">\\n      2:1\\n     </td>\\n     <td class=\"result-ok odds-nowrp\" xodd=\"aza8fazao\" xoid=\"E-2d4t8x2s5a4x0x52fqk\">\\n      -\\n     </td>\\n     <td class=\"odds-nowrp\" xodd=\"ofezec\" xoid=\"E-2d4t8x2s5a4x0x52fql\">\\n      -\\n     </td>\\n     <td class=\"center info-value\">\\n      15\\n     </td>\\n    </tr>\\n    <tr class=\"odd deactivate\" xeid=\"Sbp9KpQI\">\\n     <td class=\"table-time datet t1463150100-8-1-0-0 \">\\n     </td>\\n     <td class=\"name table-participant\" colspan=\"2\">\\n      <a href=\"/tennis/italy/atp-rome/djokovic-novak-nadal-rafael-Sbp9KpQI/\">\\n       <span class=\"bold\">\\n        Djokovic N.\\n       </span>\\n       - Nadal R.\\n      </a>\\n     </td>\\n     <td class=\"center bold table-odds table-score\">\\n      2:0\\n     </td>\\n     <td class=\"result-ok odds-nowrp\" xodd=\"azc8fazct\" xoid=\"E-2d4bex2s5a4x0x52eeg\">\\n      -\\n     </td>\\n     <td class=\"odds-nowrp\" xodd=\"czpxfczco\" xoid=\"E-2d4bex2s5a4x0x52eeh\">\\n      -\\n     </td>\\n     <td class=\"center info-value\">\\n      16\\n     </td>\\n    </tr>\\n    <tr class=\" deactivate\" xeid=\"U7UuqDSH\">\\n     <td class=\"table-time datet t1463075400-8-1-0-0 \">\\n     </td>\\n     <td class=\"name table-participant\" colspan=\"2\">\\n      <a href=\"/tennis/italy/atp-rome/djokovic-novak-bellucci-thomaz-U7UuqDSH/\">\\n       <span class=\"bold\">\\n        Djokovic N.\\n       </span>\\n       - Bellucci T.\\n      </a>\\n     </td>\\n     <td class=\"center bold table-odds table-score\">\\n      2:1\\n     </td>\\n     <td class=\"result-ok odds-nowrp\" xodd=\"azafaz0t\" xoid=\"E-2d3d3x2s5a4x0x52c55\">\\n      -\\n     </td>\\n     <td class=\"odds-nowrp\" xodd=\"aez0xfaaz98\" xoid=\"E-2d3d3x2s5a4x0x52c56\">\\n      -\\n     </td>\\n     <td class=\"center info-value\">\\n      16\\n     </td>\\n    </tr>\\n    <tr class=\"odd deactivate\" xeid=\"8A9SxXq2\">\\n     <td class=\"table-time datet t1462968300-8-1-0-0 \">\\n     </td>\\n     <td class=\"name table-participant\" colspan=\"2\">\\n      <a href=\"/tennis/italy/atp-rome/djokovic-novak-robert-stephane-8A9SxXq2/\">\\n       <span class=\"bold\">\\n        Djokovic N.\\n       </span>\\n       - Robert S.\\n      </a>\\n     </td>\\n     <td class=\"center bold table-odds table-score\">\\n      2:0\\n     </td>\\n     <td class=\"result-ok odds-nowrp\" xodd=\"az0cfaz0a\" xoid=\"E-2d2l3x2s5a4x0x529qu\">\\n      -\\n     </td>\\n     <td class=\"odds-nowrp\" xodd=\"tafxezac\" xoid=\"E-2d2l3x2s5a4x0x529qv\">\\n      -\\n     </td>\\n     <td class=\"center info-value\">\\n      16\\n     </td>\\n    </tr>\\n    <tr class=\"dark center\" xtid=\"27625\">\\n     <th class=\"first2 tl\" colspan=\"4\">\\n      <a class=\"bfl sicona s2\" href=\"/tennis/\">\\n       Tennis\\n      </a>\\n      <span class=\"bflp\">\\n       Â»\\n      </span>\\n      <a class=\"bfl\" href=\"/tennis/spain/\">\\n       <span class=\"ficon f-176\">\\n       </span>\\n       Spain\\n      </a>\\n      <span class=\"bflp\">\\n       Â»\\n      </span>\\n      <a href=\"/tennis/spain/atp-madrid/\">\\n       ATP Madrid (clay)\\n      </a>\\n     </th>\\n     <th>\\n      1\\n     </th>\\n     <th>\\n      2\\n     </th>\\n     <th xparam=\"Number of available bookmakers odds~2\">\\n      B\\'s\\n     </th>\\n    </tr>\\n    <tr class=\"odd deactivate\" xeid=\"ldV6anmO\">\\n     <td class=\"table-time datet t1462725900-8-1-0-0 \">\\n     </td>\\n     <td class=\"name table-participant\" colspan=\"2\">\\n      <a href=\"/tennis/spain/atp-madrid/djokovic-novak-murray-andy-ldV6anmO/\">\\n       <span class=\"bold\">\\n        Djokovic N.\\n       </span>\\n       - Murray A.\\n      </a>\\n     </td>\\n     <td class=\"center bold table-odds table-score\">\\n      2:1\\n     </td>\\n     <td class=\"result-ok odds-nowrp\" xodd=\"azx8fazxo\" xoid=\"E-2d1usx2s5a4x0x527od\">\\n      -\\n     </td>\\n     <td class=\"odds-nowrp\" xodd=\"tztftzax\" xoid=\"E-2d1usx2s5a4x0x527oe\">\\n      -\\n     </td>\\n     <td class=\"center info-value\">\\n      16\\n     </td>\\n    </tr>\\n    <tr class=\" deactivate\" xeid=\"fNVH58vt\">\\n     <td class=\"table-time datet t1462645500-8-1-0-0 \">\\n     </td>\\n     <td class=\"name table-participant\" colspan=\"2\">\\n      <a href=\"/tennis/spain/atp-madrid/djokovic-novak-nishikori-kei-fNVH58vt/\">\\n       <span class=\"bold\">\\n        Djokovic N.\\n       </span>\\n       - Nishikori K.\\n      </a>\\n     </td>\\n     <td class=\"center bold table-odds table-score\">\\n      2:0\\n     </td>\\n     <td class=\"result-ok odds-nowrp\" xodd=\"azapfazac\" xoid=\"E-2d1p0x2s5a4x0x527c1\">\\n      -\\n     </td>\\n     <td class=\"odds-nowrp\" xodd=\"pzcfozco\" xoid=\"E-2d1p0x2s5a4x0x527c2\">\\n      -\\n     </td>\\n     <td class=\"center info-value\">\\n      16\\n     </td>\\n    </tr>\\n    <tr class=\"odd deactivate\" xeid=\"rRO0KCwl\">\\n     <td class=\"table-time datet t1462563600-8-1-0-0 \">\\n     </td>\\n     <td class=\"name table-participant\" colspan=\"2\">\\n      <a href=\"/tennis/spain/atp-madrid/djokovic-novak-raonic-milos-rRO0KCwl/\">\\n       <span class=\"bold\">\\n        Djokovic N.\\n       </span>\\n       - Raonic M.\\n      </a>\\n     </td>\\n     <td class=\"center bold table-odds table-score\">\\n      2:0\\n     </td>\\n     <td class=\"result-ok odds-nowrp\" xodd=\"azaxfaza\" xoid=\"E-2d1cux2s5a4x0x5261j\">\\n      -\\n     </td>\\n     <td class=\"odds-nowrp\" xodd=\"8ztfpzc\" xoid=\"E-2d1cux2s5a4x0x5261k\">\\n      -\\n     </td>\\n     <td class=\"center info-value\">\\n      16\\n     </td>\\n    </tr>\\n    <tr class=\" deactivate\" xeid=\"lYxcRbiA\">\\n     <td class=\"table-time datet t1462457700-8-1-0-0 \">\\n     </td>\\n     <td class=\"name table-participant\" colspan=\"2\">\\n      <a href=\"/tennis/spain/atp-madrid/djokovic-novak-bautista-agut-roberto-lYxcRbiA/\">\\n       <span class=\"bold\">\\n        Djokovic N.\\n       </span>\\n       - Bautista-Agut R.\\n      </a>\\n     </td>\\n     <td class=\"center bold table-odds table-score\">\\n      2:0\\n     </td>\\n     <td class=\"result-ok odds-nowrp\" xodd=\"az0efaz0t\" xoid=\"E-2d0nbx2s5a4x0x524gj\">\\n      -\\n     </td>\\n     <td class=\"odds-nowrp\" xodd=\"aofacz0c\" xoid=\"E-2d0nbx2s5a4x0x524gk\">\\n      -\\n     </td>\\n     <td class=\"center info-value\">\\n      16\\n     </td>\\n    </tr>\\n    <tr class=\"odd deactivate\" xeid=\"Im7AAQIN\">\\n     <td class=\"table-time datet t1462372800-8-1-0-0 \">\\n     </td>\\n     <td class=\"name table-participant\" colspan=\"2\">\\n      <a href=\"/tennis/spain/atp-madrid/djokovic-novak-coric-borna-Im7AAQIN/\">\\n       <span class=\"bold\">\\n        Djokovic N.\\n       </span>\\n       - Coric B.\\n      </a>\\n     </td>\\n     <td class=\"center bold table-odds table-score\">\\n      2:0\\n     </td>\\n     <td class=\"result-ok odds-nowrp\" xodd=\"az0pfaz0e\" xoid=\"E-2d0d5x2s5a4x0x5232u\">\\n      -\\n     </td>\\n     <td class=\"odds-nowrp\" xodd=\"acfaaz09\" xoid=\"E-2d0d5x2s5a4x0x5232v\">\\n      -\\n     </td>\\n     <td class=\"center info-value\">\\n      16\\n     </td>\\n    </tr>\\n    <tr class=\"dark center\" xtid=\"27398\">\\n     <th class=\"first2 tl\" colspan=\"4\">\\n      <a class=\"bfl sicona s2\" href=\"/tennis/\">\\n       Tennis\\n      </a>\\n      <span class=\"bflp\">\\n       Â»\\n      </span>\\n      <a class=\"bfl\" href=\"/tennis/monaco/\">\\n       <span class=\"ficon f-131\">\\n       </span>\\n       Monaco\\n      </a>\\n      <span class=\"bflp\">\\n       Â»\\n      </span>\\n      <a href=\"/tennis/monaco/atp-monte-carlo/\">\\n       ATP Monte Carlo (clay)\\n      </a>\\n     </th>\\n     <th>\\n      1\\n     </th>\\n     <th>\\n      2\\n     </th>\\n     <th xparam=\"Number of available bookmakers odds~2\">\\n      B\\'s\\n     </th>\\n    </tr>\\n    <tr class=\"odd deactivate\" xeid=\"UoweTazE\">\\n     <td class=\"table-time datet t1460552400-8-1-0-0 \">\\n     </td>\\n     <td class=\"name table-participant\" colspan=\"2\">\\n      <a href=\"/tennis/monaco/atp-monte-carlo/djokovic-novak-vesely-jiri-UoweTazE/\">\\n       Djokovic N. -\\n       <span class=\"bold\">\\n        Vesely J.\\n       </span>\\n      </a>\\n     </td>\\n     <td class=\"center bold table-odds table-score\">\\n      1:2\\n     </td>\\n     <td class=\"odds-nowrp\" xodd=\"az0xfaz0a\" xoid=\"E-2cng8x2s5a4x0x51agb\">\\n      -\\n     </td>\\n     <td class=\"result-ok odds-nowrp\" xodd=\"xpfa8zco\" xoid=\"E-2cng8x2s5a4x0x51agc\">\\n      -\\n     </td>\\n     <td class=\"center info-value\">\\n      16\\n     </td>\\n    </tr>\\n    <tr class=\"dark center\" xtid=\"27197\">\\n     <th class=\"first2 tl\" colspan=\"4\">\\n      <a class=\"bfl sicona s2\" href=\"/tennis/\">\\n       Tennis\\n      </a>\\n      <span class=\"bflp\">\\n       Â»\\n      </span>\\n      <a class=\"bfl\" href=\"/tennis/usa/\">\\n       <span class=\"ficon f-200\">\\n       </span>\\n       USA\\n      </a>\\n      <span class=\"bflp\">\\n       Â»\\n      </span>\\n      <a href=\"/tennis/usa/atp-miami/\">\\n       ATP Miami (hard)\\n      </a>\\n     </th>\\n     <th>\\n      1\\n     </th>\\n     <th>\\n      2\\n     </th>\\n     <th xparam=\"Number of available bookmakers odds~2\">\\n      B\\'s\\n     </th>\\n    </tr>\\n    <tr class=\"odd deactivate\" xeid=\"bJpmfxYQ\">\\n     <td class=\"table-time datet t1459703400-8-1-0-0 \">\\n     </td>\\n     <td class=\"name table-participant\" colspan=\"2\">\\n      <a href=\"/tennis/usa/atp-miami/djokovic-novak-nishikori-kei-bJpmfxYQ/\">\\n       <span class=\"bold\">\\n        Djokovic N.\\n       </span>\\n       - Nishikori K.\\n      </a>\\n     </td>\\n     <td class=\"center bold table-odds table-score\">\\n      2:0\\n     </td>\\n     <td class=\"result-ok odds-nowrp\" xodd=\"azxfazap\" xoid=\"E-2cgr7x2s5a4x0x50pmr\">\\n      -\\n     </td>\\n     <td class=\"odds-nowrp\" xodd=\"ofezto\" xoid=\"E-2cgr7x2s5a4x0x50pms\">\\n      -\\n     </td>\\n     <td class=\"center info-value\">\\n      16\\n     </td>\\n    </tr>\\n    <tr class=\" deactivate\" xeid=\"WMFhu6je\">\\n     <td class=\"table-time datet t1459530600-8-1-0-0 \">\\n     </td>\\n     <td class=\"name table-participant\" colspan=\"2\">\\n      <a href=\"/tennis/usa/atp-miami/djokovic-novak-goffin-david-WMFhu6je/\">\\n       <span class=\"bold\">\\n        Djokovic N.\\n       </span>\\n       - Goffin D.\\n      </a>\\n     </td>\\n     <td class=\"center bold table-odds table-score\">\\n      2:0\\n     </td>\\n     <td class=\"result-ok odds-nowrp\" xodd=\"az09faz0p\" xoid=\"E-2cfmfx2s5a4x0x50n5h\">\\n      -\\n     </td>\\n     <td class=\"odds-nowrp\" xodd=\"a0zef9zae\" xoid=\"E-2cfmfx2s5a4x0x50n5i\">\\n      -\\n     </td>\\n     <td class=\"center info-value\">\\n      16\\n     </td>\\n    </tr>\\n    <tr class=\"odd deactivate\" xeid=\"O6VYG64p\">\\n     <td class=\"table-time datet t1459386600-8-1-0-0 \">\\n     </td>\\n     <td class=\"name table-participant\" colspan=\"2\">\\n      <a href=\"/tennis/usa/atp-miami/djokovic-novak-berdych-tomas-O6VYG64p/\">\\n       <span class=\"bold\">\\n        Djokovic N.\\n       </span>\\n       - Berdych T.\\n      </a>\\n     </td>\\n     <td class=\"center bold table-odds table-score\">\\n      2:0\\n     </td>\\n     <td class=\"result-ok odds-nowrp\" xodd=\"azacfaz09\" xoid=\"E-2cf0kx2s5a4x0x50lao\">\\n      -\\n     </td>\\n     <td class=\"odds-nowrp\" xodd=\"9za8f8z0t\" xoid=\"E-2cf0kx2s5a4x0x50lap\">\\n      -\\n     </td>\\n     <td class=\"center info-value\">\\n      16\\n     </td>\\n    </tr>\\n    <tr class=\" deactivate\" xeid=\"8QPmAKVG\">\\n     <td class=\"table-time datet t1459284600-8-1-0-0 \">\\n     </td>\\n     <td class=\"name table-participant\" colspan=\"2\">\\n      <a href=\"/tennis/usa/atp-miami/djokovic-novak-thiem-dominic-8QPmAKVG/\">\\n       <span class=\"bold\">\\n        Djokovic N.\\n       </span>\\n       - Thiem D.\\n      </a>\\n     </td>\\n     <td class=\"center bold table-odds table-score\">\\n      2:0\\n     </td>\\n     <td class=\"result-ok odds-nowrp\" xodd=\"azacfazaa\" xoid=\"E-2ce7rx2s5a4x0x50jjo\">\\n      -\\n     </td>\\n     <td class=\"odds-nowrp\" xodd=\"pzpefoz89\" xoid=\"E-2ce7rx2s5a4x0x50jjp\">\\n      -\\n     </td>\\n     <td class=\"center info-value\">\\n      16\\n     </td>\\n    </tr>\\n    <tr class=\"odd deactivate\" xeid=\"IXdNTkrc\">\\n     <td class=\"table-time datet t1459113900-8-1-0-0 \">\\n     </td>\\n     <td class=\"name table-participant\" colspan=\"2\">\\n      <a href=\"/tennis/usa/atp-miami/djokovic-novak-sousa-joao-IXdNTkrc/\">\\n       <span class=\"bold\">\\n        Djokovic N.\\n       </span>\\n       - Sousa J.\\n      </a>\\n     </td>\\n     <td class=\"center bold table-odds table-score\">\\n      2:0\\n     </td>\\n     <td class=\"result-ok odds-nowrp\" xodd=\"az0xfaz0a\" xoid=\"E-2ccmax2s5a4x0x50g4b\">\\n      -\\n     </td>\\n     <td class=\"odds-nowrp\" xodd=\"ctfxczx8\" xoid=\"E-2ccmax2s5a4x0x50g4c\">\\n      -\\n     </td>\\n     <td class=\"center info-value\">\\n      16\\n     </td>\\n    </tr>\\n    <tr class=\" deactivate\" xeid=\"QBDQgb1k\">\\n     <td class=\"table-time datet t1458951000-8-1-0-0 \">\\n     </td>\\n     <td class=\"name table-participant\" colspan=\"2\">\\n      <a href=\"/tennis/usa/atp-miami/djokovic-novak-edmund-kyle-QBDQgb1k/\">\\n       <span class=\"bold\">\\n        Djokovic N.\\n       </span>\\n       - Edmund K.\\n      </a>\\n     </td>\\n     <td class=\"center bold table-odds table-score\">\\n      2:0\\n     </td>\\n     <td class=\"result-ok odds-nowrp\" xodd=\"az0afaz0a\" xoid=\"E-2ca9lx2s5a4x0x50a9p\">\\n      -\\n     </td>\\n     <td class=\"odds-nowrp\" xodd=\"ctfxtzt8\" xoid=\"E-2ca9lx2s5a4x0x50a9q\">\\n      -\\n     </td>\\n     <td class=\"center info-value\">\\n      15\\n     </td>\\n    </tr>\\n    <tr class=\"dark center\" xtid=\"27087\">\\n     <th class=\"first2 tl\" colspan=\"4\">\\n      <a class=\"bfl sicona s2\" href=\"/tennis/\">\\n       Tennis\\n      </a>\\n      <span class=\"bflp\">\\n       Â»\\n      </span>\\n      <a class=\"bfl\" href=\"/tennis/usa/\">\\n       <span class=\"ficon f-200\">\\n       </span>\\n       USA\\n      </a>\\n      <span class=\"bflp\">\\n       Â»\\n      </span>\\n      <a href=\"/tennis/usa/atp-indian-wells/\">\\n       ATP Indian Wells (hard)\\n      </a>\\n     </th>\\n     <th>\\n      1\\n     </th>\\n     <th>\\n      2\\n     </th>\\n     <th xparam=\"Number of available bookmakers odds~2\">\\n      B\\'s\\n     </th>\\n    </tr>\\n    <tr class=\"odd deactivate\" xeid=\"M5yvSIqR\">\\n     <td class=\"table-time datet t1458505800-8-1-0-0 \">\\n     </td>\\n     <td class=\"name table-participant\" colspan=\"2\">\\n      <a href=\"/tennis/usa/atp-indian-wells/djokovic-novak-raonic-milos-M5yvSIqR/\">\\n       <span class=\"bold\">\\n        Djokovic N.\\n       </span>\\n       - Raonic M.\\n      </a>\\n     </td>\\n     <td class=\"center bold table-odds table-score\">\\n      2:0\\n     </td>\\n     <td class=\"result-ok odds-nowrp\" xodd=\"azxafazao\" xoid=\"E-2c8c9x2s5a4x0x505k6\">\\n      -\\n     </td>\\n     <td class=\"odds-nowrp\" xodd=\"ofezc9\" xoid=\"E-2c8c9x2s5a4x0x505k7\">\\n      -\\n     </td>\\n     <td class=\"center info-value\">\\n      16\\n     </td>\\n    </tr>\\n    <tr class=\" deactivate\" xeid=\"Kle9Te1k\">\\n     <td class=\"table-time datet t1458419700-8-1-0-0 \">\\n     </td>\\n     <td class=\"name table-participant\" colspan=\"2\">\\n      <a href=\"/tennis/usa/atp-indian-wells/djokovic-novak-nadal-rafael-Kle9Te1k/\">\\n       <span class=\"bold\">\\n        Djokovic N.\\n       </span>\\n       - Nadal R.\\n      </a>\\n     </td>\\n     <td class=\"center bold table-odds table-score\">\\n      2:0\\n     </td>\\n     <td class=\"result-ok odds-nowrp\" xodd=\"azxxfazao\" xoid=\"E-2c881x2s5a4x0x50539\">\\n      -\\n     </td>\\n     <td class=\"odds-nowrp\" xodd=\"ofezex\" xoid=\"E-2c881x2s5a4x0x5053a\">\\n      -\\n     </td>\\n     <td class=\"center info-value\">\\n      16\\n     </td>\\n    </tr>\\n   </tbody>\\n  </table>\\n  <div id=\"pagination\">\\n   <a href=\"/search/results/:AZg49Et9/\" x-page=\"1\">\\n    <span class=\"arrow\">\\n     |«\\n    </span>\\n   </a>\\n   <a href=\"/search/results/:AZg49Et9/\" x-page=\"1\">\\n    <span class=\"arrow\">\\n     «\\n    </span>\\n   </a>\\n   <span class=\"active-page\">\\n    1\\n   </span>\\n   <a href=\"/search/results/:AZg49Et9/page/2/\" x-page=\"2\">\\n    <span>\\n     2\\n    </span>\\n   </a>\\n   <a href=\"/search/results/:AZg49Et9/page/3/\" x-page=\"3\">\\n    <span>\\n     3\\n    </span>\\n   </a>\\n   <a href=\"/search/results/:AZg49Et9/page/4/\" x-page=\"4\">\\n    <span>\\n     4\\n    </span>\\n   </a>\\n   <a href=\"/search/results/:AZg49Et9/page/5/\" x-page=\"5\">\\n    <span>\\n     5\\n    </span>\\n   </a>\\n   <a href=\"/search/results/:AZg49Et9/page/6/\" x-page=\"6\">\\n    <span>\\n     6\\n    </span>\\n   </a>\\n   <a href=\"/search/results/:AZg49Et9/page/7/\" x-page=\"7\">\\n    <span>\\n     7\\n    </span>\\n   </a>\\n   <a href=\"/search/results/:AZg49Et9/page/8/\" x-page=\"8\">\\n    <span>\\n     8\\n    </span>\\n   </a>\\n   <a href=\"/search/results/:AZg49Et9/page/9/\" x-page=\"9\">\\n    <span>\\n     9\\n    </span>\\n   </a>\\n   <a href=\"/search/results/:AZg49Et9/page/10/\" x-page=\"10\">\\n    <span>\\n     10\\n    </span>\\n   </a>\\n   <a href=\"/search/results/:AZg49Et9/page/11/\" x-page=\"11\">\\n    <span>\\n     11\\n    </span>\\n   </a>\\n   <a href=\"/search/results/:AZg49Et9/page/2/\" x-page=\"2\">\\n    <span class=\"arrow\">\\n     »\\n    </span>\\n   </a>\\n   <a href=\"/search/results/:AZg49Et9/page/37/\" x-page=\"37\">\\n    <span class=\"arrow\">\\n     »|\\n    </span>\\n   </a>\\n  </div>\\n </div>\\n <!--  END PAGE BODY -->\\n</div>\\n'"
      ]
     },
     "execution_count": 46,
     "metadata": {},
     "output_type": "execute_result"
    }
   ],
   "source": [
    "table = soup.find(id = 'col-content')\n",
    "table.prettify()"
   ]
  },
  {
   "cell_type": "code",
   "execution_count": 7,
   "metadata": {
    "collapsed": true
   },
   "outputs": [],
   "source": [
    "ths = table.find_all('th')\n",
    "colnames = [th.contents[0] for th in ths]"
   ]
  },
  {
   "cell_type": "code",
   "execution_count": 8,
   "metadata": {
    "collapsed": false
   },
   "outputs": [
    {
     "data": {
      "text/plain": [
       "[\"B's\", '1', '2', <a class=\"bfl sicona s2\" href=\"/tennis/\">Tennis</a>]"
      ]
     },
     "execution_count": 8,
     "metadata": {},
     "output_type": "execute_result"
    }
   ],
   "source": [
    "colnames = list(set(colnames))\n",
    "colnames"
   ]
  },
  {
   "cell_type": "code",
   "execution_count": 47,
   "metadata": {
    "collapsed": false
   },
   "outputs": [],
   "source": [
    "names = soup.find_all(\"td\", class_ = \"name table-participant\")\n",
    "names_2 = soup.find_all(class_ = \"bfl sicona s2\")"
   ]
  },
  {
   "cell_type": "code",
   "execution_count": 48,
   "metadata": {
    "collapsed": false
   },
   "outputs": [
    {
     "data": {
      "text/plain": [
       "[<td class=\"name table-participant\" colspan=\"2\"><a href=\"/tennis/france/atp-french-open/djokovic-novak-lu-yen-hsun-jcovr4sM/\"><span class=\"bold\">Djokovic N.</span> - Lu Y.H.</a></td>,\n",
       " <td class=\"name table-participant\" colspan=\"2\"><a href=\"/tennis/italy/atp-rome/djokovic-novak-murray-andy-SYEXgveB/\">Djokovic N. - <span class=\"bold\">Murray A.</span></a></td>,\n",
       " <td class=\"name table-participant\" colspan=\"2\"><a href=\"/tennis/italy/atp-rome/djokovic-novak-nishikori-kei-KjI632zU/\"><span class=\"bold\">Djokovic N.</span> - Nishikori K.</a></td>,\n",
       " <td class=\"name table-participant\" colspan=\"2\"><a href=\"/tennis/italy/atp-rome/djokovic-novak-nadal-rafael-Sbp9KpQI/\"><span class=\"bold\">Djokovic N.</span> - Nadal R.</a></td>,\n",
       " <td class=\"name table-participant\" colspan=\"2\"><a href=\"/tennis/italy/atp-rome/djokovic-novak-bellucci-thomaz-U7UuqDSH/\"><span class=\"bold\">Djokovic N.</span> - Bellucci T.</a></td>,\n",
       " <td class=\"name table-participant\" colspan=\"2\"><a href=\"/tennis/italy/atp-rome/djokovic-novak-robert-stephane-8A9SxXq2/\"><span class=\"bold\">Djokovic N.</span> - Robert S.</a></td>,\n",
       " <td class=\"name table-participant\" colspan=\"2\"><a href=\"/tennis/spain/atp-madrid/djokovic-novak-murray-andy-ldV6anmO/\"><span class=\"bold\">Djokovic N.</span> - Murray A.</a></td>,\n",
       " <td class=\"name table-participant\" colspan=\"2\"><a href=\"/tennis/spain/atp-madrid/djokovic-novak-nishikori-kei-fNVH58vt/\"><span class=\"bold\">Djokovic N.</span> - Nishikori K.</a></td>,\n",
       " <td class=\"name table-participant\" colspan=\"2\"><a href=\"/tennis/spain/atp-madrid/djokovic-novak-raonic-milos-rRO0KCwl/\"><span class=\"bold\">Djokovic N.</span> - Raonic M.</a></td>,\n",
       " <td class=\"name table-participant\" colspan=\"2\"><a href=\"/tennis/spain/atp-madrid/djokovic-novak-bautista-agut-roberto-lYxcRbiA/\"><span class=\"bold\">Djokovic N.</span> - Bautista-Agut R.</a></td>,\n",
       " <td class=\"name table-participant\" colspan=\"2\"><a href=\"/tennis/spain/atp-madrid/djokovic-novak-coric-borna-Im7AAQIN/\"><span class=\"bold\">Djokovic N.</span> - Coric B.</a></td>,\n",
       " <td class=\"name table-participant\" colspan=\"2\"><a href=\"/tennis/monaco/atp-monte-carlo/djokovic-novak-vesely-jiri-UoweTazE/\">Djokovic N. - <span class=\"bold\">Vesely J.</span></a></td>,\n",
       " <td class=\"name table-participant\" colspan=\"2\"><a href=\"/tennis/usa/atp-miami/djokovic-novak-nishikori-kei-bJpmfxYQ/\"><span class=\"bold\">Djokovic N.</span> - Nishikori K.</a></td>,\n",
       " <td class=\"name table-participant\" colspan=\"2\"><a href=\"/tennis/usa/atp-miami/djokovic-novak-goffin-david-WMFhu6je/\"><span class=\"bold\">Djokovic N.</span> - Goffin D.</a></td>,\n",
       " <td class=\"name table-participant\" colspan=\"2\"><a href=\"/tennis/usa/atp-miami/djokovic-novak-berdych-tomas-O6VYG64p/\"><span class=\"bold\">Djokovic N.</span> - Berdych T.</a></td>,\n",
       " <td class=\"name table-participant\" colspan=\"2\"><a href=\"/tennis/usa/atp-miami/djokovic-novak-thiem-dominic-8QPmAKVG/\"><span class=\"bold\">Djokovic N.</span> - Thiem D.</a></td>,\n",
       " <td class=\"name table-participant\" colspan=\"2\"><a href=\"/tennis/usa/atp-miami/djokovic-novak-sousa-joao-IXdNTkrc/\"><span class=\"bold\">Djokovic N.</span> - Sousa J.</a></td>,\n",
       " <td class=\"name table-participant\" colspan=\"2\"><a href=\"/tennis/usa/atp-miami/djokovic-novak-edmund-kyle-QBDQgb1k/\"><span class=\"bold\">Djokovic N.</span> - Edmund K.</a></td>,\n",
       " <td class=\"name table-participant\" colspan=\"2\"><a href=\"/tennis/usa/atp-indian-wells/djokovic-novak-raonic-milos-M5yvSIqR/\"><span class=\"bold\">Djokovic N.</span> - Raonic M.</a></td>,\n",
       " <td class=\"name table-participant\" colspan=\"2\"><a href=\"/tennis/usa/atp-indian-wells/djokovic-novak-nadal-rafael-Kle9Te1k/\"><span class=\"bold\">Djokovic N.</span> - Nadal R.</a></td>]"
      ]
     },
     "execution_count": 48,
     "metadata": {},
     "output_type": "execute_result"
    }
   ],
   "source": [
    "names"
   ]
  },
  {
   "cell_type": "code",
   "execution_count": 49,
   "metadata": {
    "collapsed": false
   },
   "outputs": [
    {
     "data": {
      "text/plain": [
       "[<td class=\"result-ok odds-nowrp\" xodd=\"az0afaz0a\" xoid=\"E-2d81ex2s5a4x0x52n3j\">-</td>,\n",
       " <td class=\"result-ok odds-nowrp\" xodd=\"cfxz8x\" xoid=\"E-2d56rx2s5a4x0x52gq5\">-</td>,\n",
       " <td class=\"result-ok odds-nowrp\" xodd=\"aza8fazao\" xoid=\"E-2d4t8x2s5a4x0x52fqk\">-</td>,\n",
       " <td class=\"result-ok odds-nowrp\" xodd=\"azc8fazct\" xoid=\"E-2d4bex2s5a4x0x52eeg\">-</td>,\n",
       " <td class=\"result-ok odds-nowrp\" xodd=\"azafaz0t\" xoid=\"E-2d3d3x2s5a4x0x52c55\">-</td>,\n",
       " <td class=\"result-ok odds-nowrp\" xodd=\"az0cfaz0a\" xoid=\"E-2d2l3x2s5a4x0x529qu\">-</td>,\n",
       " <td class=\"result-ok odds-nowrp\" xodd=\"azx8fazxo\" xoid=\"E-2d1usx2s5a4x0x527od\">-</td>,\n",
       " <td class=\"result-ok odds-nowrp\" xodd=\"azapfazac\" xoid=\"E-2d1p0x2s5a4x0x527c1\">-</td>,\n",
       " <td class=\"result-ok odds-nowrp\" xodd=\"azaxfaza\" xoid=\"E-2d1cux2s5a4x0x5261j\">-</td>,\n",
       " <td class=\"result-ok odds-nowrp\" xodd=\"az0efaz0t\" xoid=\"E-2d0nbx2s5a4x0x524gj\">-</td>,\n",
       " <td class=\"result-ok odds-nowrp\" xodd=\"az0pfaz0e\" xoid=\"E-2d0d5x2s5a4x0x5232u\">-</td>,\n",
       " <td class=\"result-ok odds-nowrp\" xodd=\"xpfa8zco\" xoid=\"E-2cng8x2s5a4x0x51agc\">-</td>,\n",
       " <td class=\"result-ok odds-nowrp\" xodd=\"azxfazap\" xoid=\"E-2cgr7x2s5a4x0x50pmr\">-</td>,\n",
       " <td class=\"result-ok odds-nowrp\" xodd=\"az09faz0p\" xoid=\"E-2cfmfx2s5a4x0x50n5h\">-</td>,\n",
       " <td class=\"result-ok odds-nowrp\" xodd=\"azacfaz09\" xoid=\"E-2cf0kx2s5a4x0x50lao\">-</td>,\n",
       " <td class=\"result-ok odds-nowrp\" xodd=\"azacfazaa\" xoid=\"E-2ce7rx2s5a4x0x50jjo\">-</td>,\n",
       " <td class=\"result-ok odds-nowrp\" xodd=\"az0xfaz0a\" xoid=\"E-2ccmax2s5a4x0x50g4b\">-</td>,\n",
       " <td class=\"result-ok odds-nowrp\" xodd=\"az0afaz0a\" xoid=\"E-2ca9lx2s5a4x0x50a9p\">-</td>,\n",
       " <td class=\"result-ok odds-nowrp\" xodd=\"azxafazao\" xoid=\"E-2c8c9x2s5a4x0x505k6\">-</td>,\n",
       " <td class=\"result-ok odds-nowrp\" xodd=\"azxxfazao\" xoid=\"E-2c881x2s5a4x0x50539\">-</td>]"
      ]
     },
     "execution_count": 49,
     "metadata": {},
     "output_type": "execute_result"
    }
   ],
   "source": [
    "odds = soup.find_all('td', class_ = \"result-ok odds-nowrp\")\n",
    "odds"
   ]
  },
  {
   "cell_type": "code",
   "execution_count": 50,
   "metadata": {
    "collapsed": false
   },
   "outputs": [
    {
     "name": "stdout",
     "output_type": "stream",
     "text": [
      "None\n"
     ]
    }
   ],
   "source": [
    "print(soup.find('td', class_ = 'result-ok.odds-nowrp'))"
   ]
  },
  {
   "cell_type": "code",
   "execution_count": 51,
   "metadata": {
    "collapsed": false
   },
   "outputs": [],
   "source": [
    "#col-content > div > table > tbody > tr:nth-child(2) > td.result-ok.odds-nowrp > a\n",
    "#//*[@id=\"col-content\"]/div/table/tbody/tr[2]/td[4]/a\n"
   ]
  },
  {
   "cell_type": "code",
   "execution_count": null,
   "metadata": {
    "collapsed": true
   },
   "outputs": [],
   "source": []
  }
 ],
 "metadata": {
  "kernelspec": {
   "display_name": "Python 3",
   "language": "python",
   "name": "python3"
  },
  "language_info": {
   "codemirror_mode": {
    "name": "ipython",
    "version": 3
   },
   "file_extension": ".py",
   "mimetype": "text/x-python",
   "name": "python",
   "nbconvert_exporter": "python",
   "pygments_lexer": "ipython3",
   "version": "3.5.1"
  }
 },
 "nbformat": 4,
 "nbformat_minor": 0
}
