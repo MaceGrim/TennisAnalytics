{
 "cells": [
  {
   "cell_type": "code",
   "execution_count": 32,
   "metadata": {
    "collapsed": true
   },
   "outputs": [],
   "source": [
    "import numpy as np\n",
    "#from scipy.stats import bernoulli,poisson,norm,expon\n",
    "server1p = .9\n",
    "server2p = .5"
   ]
  },
  {
   "cell_type": "code",
   "execution_count": 33,
   "metadata": {
    "collapsed": false
   },
   "outputs": [
    {
     "data": {
      "text/plain": [
       "22"
      ]
     },
     "execution_count": 33,
     "metadata": {},
     "output_type": "execute_result"
    }
   ],
   "source": [
    "matchstring = list(range(36))\n",
    "matchstring\n",
    "for i in range(18):\n",
    "    matchstring[2*i] = np.random.binomial(1, server1p)\n",
    "    matchstring[2*i+1] =  np.random.binomial(1, 1-server2p)\n",
    "sum(matchstring)"
   ]
  },
  {
   "cell_type": "code",
   "execution_count": 34,
   "metadata": {
    "collapsed": false
   },
   "outputs": [
    {
     "name": "stdout",
     "output_type": "stream",
     "text": [
      "[1, 0]\n",
      "[1, 1]\n",
      "[2, 1]\n",
      "[2, 2]\n",
      "[3, 2]\n",
      "[4, 2]\n",
      "[5, 2]\n",
      "[5, 3]\n",
      "[0, 0]\n",
      "[0, 1]\n",
      "[1, 1]\n",
      "[1, 2]\n",
      "[2, 2]\n",
      "[2, 3]\n",
      "[3, 3]\n",
      "[4, 3]\n",
      "[5, 3]\n",
      "[0, 0]\n",
      "[1, 0]\n",
      "[1, 1]\n",
      "[2, 1]\n",
      "[2, 2]\n",
      "[3, 2]\n",
      "[3, 3]\n",
      "[4, 3]\n",
      "[4, 4]\n",
      "[5, 4]\n",
      "[0, 0]\n",
      "[1, 0]\n",
      "[2, 0]\n",
      "[2, 1]\n",
      "[2, 2]\n",
      "[3, 2]\n",
      "[3, 3]\n",
      "[4, 3]\n",
      "[4, 4]\n"
     ]
    },
    {
     "data": {
      "text/plain": [
       "'player 1'"
      ]
     },
     "execution_count": 34,
     "metadata": {},
     "output_type": "execute_result"
    }
   ],
   "source": [
    "matchscore = [0,0]\n",
    "tempscore = [0,0]\n",
    "for i in range(36):\n",
    "    if(matchstring[i] == 1):\n",
    "        tempscore[0] += 1\n",
    "    if(matchstring[i] == 0):\n",
    "        tempscore[1] += 1\n",
    "    if(tempscore[0] == 6):\n",
    "        if(tempscore[1] < 5):\n",
    "            matchscore[0] += 1\n",
    "            tempscore = [0,0]\n",
    "    if(tempscore[1] == 6):\n",
    "        if(tempscore[0] < 5):\n",
    "            matchscore[1] += 1\n",
    "            tempscore = [0,0]\n",
    "    if(tempscore[0] == 7):\n",
    "        matchscore[0] += 1\n",
    "        tempscore = [0,0]\n",
    "    if(tempscore[1] == 7):\n",
    "        matchscore[1] += 1\n",
    "        tempscore = [0,0]\n",
    "    if((tempscore[0] == 6) &  (tempscore[1] == 6)):\n",
    "        tiebraker = np.random.binomial(1, .5)\n",
    "        matchscore[tiebraker] += 1\n",
    "        tempscore = [0,0]\n",
    "    if(matchscore[0] == 2):\n",
    "        winner = 'player 1'\n",
    "        matchscore = [-1,-1]\n",
    "    if(matchscore[1] == 2):\n",
    "        winner = 'player 2'\n",
    "        matchscore = [-1,-1] \n",
    "winner"
   ]
  },
  {
   "cell_type": "code",
   "execution_count": 43,
   "metadata": {
    "collapsed": false
   },
   "outputs": [],
   "source": [
    "def MatchWinner(server1p, server2p, GS):\n",
    "    winner = 'Player 0'\n",
    "    if(GS == 1):\n",
    "        n = 60\n",
    "        n1 = 30\n",
    "        w = 3\n",
    "    if(GS == 0):\n",
    "        n = 36\n",
    "        n1 = 18\n",
    "        w = 2\n",
    "    matchstring = list(range(n))\n",
    "    for i in range(n1):\n",
    "        matchstring[2*i] = np.random.binomial(1, server1p)\n",
    "        matchstring[2*i+1] =  np.random.binomial(1, 1-server2p)\n",
    "    matchscore = [0,0]\n",
    "    tempscore = [0,0]\n",
    "    for i in range(n):\n",
    "        if(matchstring[i] == 1):\n",
    "            tempscore[0] += 1\n",
    "        if(matchstring[i] == 0):\n",
    "            tempscore[1] += 1\n",
    "        if(tempscore[0] == 6):\n",
    "            if(tempscore[1] < 5):\n",
    "                matchscore[0] += 1\n",
    "                tempscore = [0,0]\n",
    "        if(tempscore[1] == 6):\n",
    "            if(tempscore[0] < 5):\n",
    "                matchscore[1] += 1\n",
    "                tempscore = [0,0]\n",
    "        if(tempscore[0] == 7):\n",
    "            matchscore[0] += 1\n",
    "            tempscore = [0,0]\n",
    "        if(tempscore[1] == 7):\n",
    "            matchscore[1] += 1\n",
    "            tempscore = [0,0]\n",
    "        if((tempscore[0] == 6) &  (tempscore[1] == 6)):\n",
    "            tiebraker = np.random.binomial(1, .5)\n",
    "            matchscore[tiebraker] += 1\n",
    "            tempscore = [0,0]\n",
    "        if(matchscore[0] == w):\n",
    "            winner = 'player 1'\n",
    "            matchscore = [-10,-10]\n",
    "        if(matchscore[1] == w):\n",
    "            winner = 'player 2'\n",
    "            matchscore = [-10,-10] \n",
    "    return winner \n",
    "        "
   ]
  },
  {
   "cell_type": "code",
   "execution_count": 49,
   "metadata": {
    "collapsed": false
   },
   "outputs": [
    {
     "data": {
      "text/plain": [
       "'player 1'"
      ]
     },
     "execution_count": 49,
     "metadata": {},
     "output_type": "execute_result"
    }
   ],
   "source": [
    "MatchWinner(.5,.5,1)"
   ]
  },
  {
   "cell_type": "code",
   "execution_count": null,
   "metadata": {
    "collapsed": true
   },
   "outputs": [],
   "source": []
  }
 ],
 "metadata": {
  "kernelspec": {
   "display_name": "Python 3",
   "language": "python",
   "name": "python3"
  },
  "language_info": {
   "codemirror_mode": {
    "name": "ipython",
    "version": 3
   },
   "file_extension": ".py",
   "mimetype": "text/x-python",
   "name": "python",
   "nbconvert_exporter": "python",
   "pygments_lexer": "ipython3",
   "version": "3.5.1"
  }
 },
 "nbformat": 4,
 "nbformat_minor": 0
}
