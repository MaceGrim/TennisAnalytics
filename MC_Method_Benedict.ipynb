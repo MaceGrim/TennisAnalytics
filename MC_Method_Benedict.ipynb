{
 "cells": [
  {
   "cell_type": "code",
   "execution_count": 50,
   "metadata": {
    "collapsed": true
   },
   "outputs": [],
   "source": [
    "import numpy as np"
   ]
  },
  {
   "cell_type": "code",
   "execution_count": 53,
   "metadata": {
    "collapsed": false
   },
   "outputs": [],
   "source": [
    "def MatchWinner(server1p, server2p, GS):\n",
    "    winner = 'Player 0'\n",
    "    if(GS == 1):\n",
    "        n = 60\n",
    "        n1 = 30\n",
    "        w = 3\n",
    "    if(GS == 0):\n",
    "        n = 36\n",
    "        n1 = 18\n",
    "        w = 2\n",
    "    matchstring = list(range(n))\n",
    "    for i in range(n1):\n",
    "        matchstring[2*i] = np.random.binomial(1, server1p)\n",
    "        matchstring[2*i+1] =  np.random.binomial(1, 1-server2p)\n",
    "    matchscore = [0,0]\n",
    "    tempscore = [0,0]\n",
    "    for i in range(n):\n",
    "        if(matchstring[i] == 1):\n",
    "            tempscore[0] += 1\n",
    "        if(matchstring[i] == 0):\n",
    "            tempscore[1] += 1\n",
    "        if(tempscore[0] == 6):\n",
    "            if(tempscore[1] < 5):\n",
    "                matchscore[0] += 1\n",
    "                tempscore = [0,0]\n",
    "        if(tempscore[1] == 6):\n",
    "            if(tempscore[0] < 5):\n",
    "                matchscore[1] += 1\n",
    "                tempscore = [0,0]\n",
    "        if(tempscore[0] == 7):\n",
    "            matchscore[0] += 1\n",
    "            tempscore = [0,0]\n",
    "        if(tempscore[1] == 7):\n",
    "            matchscore[1] += 1\n",
    "            tempscore = [0,0]\n",
    "        if((tempscore[0] == 6) &  (tempscore[1] == 6)):\n",
    "            tiebraker = np.random.binomial(1, .5)\n",
    "            matchscore[tiebraker] += 1\n",
    "            tempscore = [0,0]\n",
    "        if(matchscore[0] == w):\n",
    "            winner = 0\n",
    "            matchscore = [-10,-10]\n",
    "        if(matchscore[1] == w):\n",
    "            winner = 1\n",
    "            matchscore = [-10,-10] \n",
    "    return winner \n",
    "        "
   ]
  },
  {
   "cell_type": "code",
   "execution_count": 55,
   "metadata": {
    "collapsed": false
   },
   "outputs": [],
   "source": [
    "def MonteCarlo(server1p, server2p, GS):\n",
    "    sum = 0.0\n",
    "    for i in range(2000):\n",
    "        sum = sum + MatchWinner(server1p,server2p, GS)\n",
    "    player1win = (2000.0-sum)/2000.0\n",
    "    return player1win"
   ]
  },
  {
   "cell_type": "markdown",
   "metadata": {},
   "source": [
    "MonteCarlo(.5,.5,0"
   ]
  },
  {
   "cell_type": "code",
   "execution_count": null,
   "metadata": {
    "collapsed": true
   },
   "outputs": [],
   "source": [
    "server2p, GS"
   ]
  }
 ],
 "metadata": {
  "kernelspec": {
   "display_name": "Python 3",
   "language": "python",
   "name": "python3"
  },
  "language_info": {
   "codemirror_mode": {
    "name": "ipython",
    "version": 3
   },
   "file_extension": ".py",
   "mimetype": "text/x-python",
   "name": "python",
   "nbconvert_exporter": "python",
   "pygments_lexer": "ipython3",
   "version": "3.5.1"
  }
 },
 "nbformat": 4,
 "nbformat_minor": 0
}
