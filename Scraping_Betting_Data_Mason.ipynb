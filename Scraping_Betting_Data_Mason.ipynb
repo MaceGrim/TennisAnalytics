{
 "cells": [
  {
   "cell_type": "code",
   "execution_count": 1,
   "metadata": {
    "collapsed": true
   },
   "outputs": [],
   "source": [
    "from pyquery import PyQuery as pq\n",
    "from selenium import webdriver\n",
    "import pandas as pd"
   ]
  },
  {
   "cell_type": "code",
   "execution_count": 2,
   "metadata": {
    "collapsed": true
   },
   "outputs": [],
   "source": [
    "url_list_4 = [\n",
    "    'http://www.oddsportal.com/search/results/Pouille/',\n",
    "    'http://www.oddsportal.com/search/results/:8Qy7Nsg0/',\n",
    "    'http://www.oddsportal.com/search/results/Fognini/',\n",
    "    'http://www.oddsportal.com/search/results/:fD42B7Fh/',\n",
    "    'http://www.oddsportal.com/search/results/Delbonis/',\n",
    "    'http://www.oddsportal.com/search/results/Grigor+Dimitrov/',\n",
    "    'http://www.oddsportal.com/search/results/Querrey/',\n",
    "    'http://www.oddsportal.com/search/results/Andreas+Seppi/',\n",
    "    'http://www.oddsportal.com/search/results/:vJqOFmCH/',\n",
    "    'http://www.oddsportal.com/search/results/Andrey+Kuznetsov/',\n",
    "]\n",
    "url_list_5 = [\n",
    "    'http://www.oddsportal.com/search/results/Alexander+Zverev/',\n",
    "    'http://www.oddsportal.com/search/results/Gilles+Muller/',\n",
    "    'http://www.oddsportal.com/search/results/Pablo+Busta/',\n",
    "    'http://www.oddsportal.com/search/results/Mahut/',\n",
    "    'http://www.oddsportal.com/search/results/Klizan/',\n",
    "    'http://www.oddsportal.com/search/results/Vasek+Pospisil/',\n",
    "    'http://www.oddsportal.com/search/results/Coric/',\n",
    "    'http://www.oddsportal.com/search/results/Guido+Pella/',\n",
    "    'http://www.oddsportal.com/search/results/Nicolas+Almagro/',\n",
    "    'http://www.oddsportal.com/search/results/Berankis/'\n",
    "]"
   ]
  },
  {
   "cell_type": "code",
   "execution_count": null,
   "metadata": {
    "collapsed": true
   },
   "outputs": [],
   "source": [
    "df_dates_40 = pd.DataFrame()\n",
    "\n",
    "for i in range(10):\n",
    "    for j in range(1, 40):\n",
    "        print i\n",
    "        browser = webdriver.PhantomJS()\n",
    "        urltemp = url_list_4[i] + 'page/' + str(j) + '/'\n",
    "        browser.get(urltemp)\n",
    "        html = browser.find_element_by_id('col-content').get_attribute('innerHTML')\n",
    "        browser.quit()\n",
    "        table = pq(html)\n",
    "        data = [ \n",
    "        [td.text() for td in tr('td').items()]\n",
    "        for tr in table('tbody tr').items()]\n",
    "        df_dates_40 = df_dates_40.append(data)"
   ]
  },
  {
   "cell_type": "code",
   "execution_count": null,
   "metadata": {
    "collapsed": true
   },
   "outputs": [],
   "source": [
    "df_dates_50 = pd.DataFrame()\n",
    "\n",
    "for i in range(10):\n",
    "    for j in range(1, 40):\n",
    "        print i\n",
    "        browser = webdriver.PhantomJS()\n",
    "        urltemp = url_list_5[i] + 'page/' + str(j) + '/'\n",
    "        browser.get(urltemp)\n",
    "        html = browser.find_element_by_id('col-content').get_attribute('innerHTML')\n",
    "        browser.quit()\n",
    "        table = pq(html)\n",
    "        data = [ \n",
    "        [td.text() for td in tr('td').items()]\n",
    "        for tr in table('tbody tr').items()]\n",
    "        df_dates_50 = df_dates_50.append(data)"
   ]
  }
 ],
 "metadata": {
  "kernelspec": {
   "display_name": "Python 2",
   "language": "python",
   "name": "python2"
  },
  "language_info": {
   "codemirror_mode": {
    "name": "ipython",
    "version": 2
   },
   "file_extension": ".py",
   "mimetype": "text/x-python",
   "name": "python",
   "nbconvert_exporter": "python",
   "pygments_lexer": "ipython2",
   "version": "2.7.11"
  }
 },
 "nbformat": 4,
 "nbformat_minor": 0
}
